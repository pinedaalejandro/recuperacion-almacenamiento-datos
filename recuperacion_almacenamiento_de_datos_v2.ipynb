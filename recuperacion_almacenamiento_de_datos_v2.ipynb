{
 "cells": [
  {
   "cell_type": "markdown",
   "id": "6a26a203",
   "metadata": {},
   "source": [
    "# Introducción\n",
    "\n",
    "A lo largo de este documento se presentaran una serie de análisis acerca de diversas compañias de taxis en Estados Unidos y los viajes que se realizarón el 15 y 16 de noviembre del 2017, así también, se analizarán el promedio de viajes que finalizarón en los distintos barrios de Chicago.\n",
    "\n",
    "## Tabla de contenido\n",
    "\n",
    "- Introducción: Se presentan las intenciones del análisis a realizar.\n",
    "- Preprocesamiento de datos: Se ajustan los datos de los diferentes `dataframe` al tipo de dato correcto.\n",
    "- Análisis exploratorio: Se presentan las principales compañias de taxi y los barrios destinos con mayor afluencia.\n",
    "- Prueba de hipótesis: Se presenta la prueba de hipótesis sobre los tiempos promedio de los viajes los días sábado de la semana con los distintos climas.\n",
    "- Conclusiones.\n",
    "\n",
    "# Preprocesamiento de datos\n",
    "\n",
    "## Importando librerias"
   ]
  },
  {
   "cell_type": "code",
   "execution_count": 1,
   "id": "0b7eb724",
   "metadata": {},
   "outputs": [],
   "source": [
    "# Importando librerias\n",
    "import pandas as pd\n",
    "from scipy import stats as st\n",
    "from scipy.stats import levene\n",
    "import seaborn as sns"
   ]
  },
  {
   "cell_type": "code",
   "execution_count": 2,
   "id": "d15184d7",
   "metadata": {},
   "outputs": [
    {
     "name": "stdout",
     "output_type": "stream",
     "text": [
      "<class 'pandas.core.frame.DataFrame'>\n",
      "RangeIndex: 64 entries, 0 to 63\n",
      "Data columns (total 2 columns):\n",
      " #   Column        Non-Null Count  Dtype \n",
      "---  ------        --------------  ----- \n",
      " 0   company_name  64 non-null     object\n",
      " 1   trips_amount  64 non-null     int64 \n",
      "dtypes: int64(1), object(1)\n",
      "memory usage: 1.1+ KB\n"
     ]
    }
   ],
   "source": [
    "# Generando df1\n",
    "df1 = pd.read_csv('datasets/project_sql_result_01.csv')\n",
    "df1.info()"
   ]
  },
  {
   "cell_type": "markdown",
   "id": "a287a4ce",
   "metadata": {},
   "source": [
    "El primer dataframe importado es `df1` el cuál contiene las empresas de taxi y el número de viajes realizados por cada empresa el 15 y 16 de noviembre del 2017; de manera general y como primer vistazo, podemos obsevar que no contamos con datos faltantes, ademas también, se tienen los tipos de datos correctos para cada columna, sin embargo, para asgurarnos de dicha información, imprimiremos los primeros 10 registros contenidos en `df1`."
   ]
  },
  {
   "cell_type": "code",
   "execution_count": 3,
   "id": "7d718fdf",
   "metadata": {},
   "outputs": [
    {
     "data": {
      "text/html": [
       "<div>\n",
       "<style scoped>\n",
       "    .dataframe tbody tr th:only-of-type {\n",
       "        vertical-align: middle;\n",
       "    }\n",
       "\n",
       "    .dataframe tbody tr th {\n",
       "        vertical-align: top;\n",
       "    }\n",
       "\n",
       "    .dataframe thead th {\n",
       "        text-align: right;\n",
       "    }\n",
       "</style>\n",
       "<table border=\"1\" class=\"dataframe\">\n",
       "  <thead>\n",
       "    <tr style=\"text-align: right;\">\n",
       "      <th></th>\n",
       "      <th>company_name</th>\n",
       "      <th>trips_amount</th>\n",
       "    </tr>\n",
       "  </thead>\n",
       "  <tbody>\n",
       "    <tr>\n",
       "      <th>0</th>\n",
       "      <td>Flash Cab</td>\n",
       "      <td>19558</td>\n",
       "    </tr>\n",
       "    <tr>\n",
       "      <th>1</th>\n",
       "      <td>Taxi Affiliation Services</td>\n",
       "      <td>11422</td>\n",
       "    </tr>\n",
       "    <tr>\n",
       "      <th>2</th>\n",
       "      <td>Medallion Leasin</td>\n",
       "      <td>10367</td>\n",
       "    </tr>\n",
       "    <tr>\n",
       "      <th>3</th>\n",
       "      <td>Yellow Cab</td>\n",
       "      <td>9888</td>\n",
       "    </tr>\n",
       "    <tr>\n",
       "      <th>4</th>\n",
       "      <td>Taxi Affiliation Service Yellow</td>\n",
       "      <td>9299</td>\n",
       "    </tr>\n",
       "    <tr>\n",
       "      <th>5</th>\n",
       "      <td>Chicago Carriage Cab Corp</td>\n",
       "      <td>9181</td>\n",
       "    </tr>\n",
       "    <tr>\n",
       "      <th>6</th>\n",
       "      <td>City Service</td>\n",
       "      <td>8448</td>\n",
       "    </tr>\n",
       "    <tr>\n",
       "      <th>7</th>\n",
       "      <td>Sun Taxi</td>\n",
       "      <td>7701</td>\n",
       "    </tr>\n",
       "    <tr>\n",
       "      <th>8</th>\n",
       "      <td>Star North Management LLC</td>\n",
       "      <td>7455</td>\n",
       "    </tr>\n",
       "    <tr>\n",
       "      <th>9</th>\n",
       "      <td>Blue Ribbon Taxi Association Inc.</td>\n",
       "      <td>5953</td>\n",
       "    </tr>\n",
       "  </tbody>\n",
       "</table>\n",
       "</div>"
      ],
      "text/plain": [
       "                        company_name  trips_amount\n",
       "0                          Flash Cab         19558\n",
       "1          Taxi Affiliation Services         11422\n",
       "2                   Medallion Leasin         10367\n",
       "3                         Yellow Cab          9888\n",
       "4    Taxi Affiliation Service Yellow          9299\n",
       "5          Chicago Carriage Cab Corp          9181\n",
       "6                       City Service          8448\n",
       "7                           Sun Taxi          7701\n",
       "8          Star North Management LLC          7455\n",
       "9  Blue Ribbon Taxi Association Inc.          5953"
      ]
     },
     "execution_count": 3,
     "metadata": {},
     "output_type": "execute_result"
    }
   ],
   "source": [
    "# Imprimiendo los primero 10 registros de \"df1\"\n",
    "df1.head(10)"
   ]
  },
  {
   "cell_type": "code",
   "execution_count": 4,
   "id": "c3a8cbb0",
   "metadata": {},
   "outputs": [
    {
     "name": "stdout",
     "output_type": "stream",
     "text": [
      "<class 'pandas.core.frame.DataFrame'>\n",
      "RangeIndex: 94 entries, 0 to 93\n",
      "Data columns (total 2 columns):\n",
      " #   Column                 Non-Null Count  Dtype  \n",
      "---  ------                 --------------  -----  \n",
      " 0   dropoff_location_name  94 non-null     object \n",
      " 1   average_trips          94 non-null     float64\n",
      "dtypes: float64(1), object(1)\n",
      "memory usage: 1.6+ KB\n"
     ]
    }
   ],
   "source": [
    "# Generando df2\n",
    "df2 = pd.read_csv('datasets/project_sql_result_04.csv')\n",
    "df2.info()"
   ]
  },
  {
   "cell_type": "markdown",
   "id": "4c500cf1",
   "metadata": {},
   "source": [
    "El dataframe `df2` contiene los barrios de Chicago y el promedio de viajes que terminarón en ellos, de igual manera, aparentemente contamos con los tipos de datos correctos así como completos. De igual forma, procederemos con la impresión de los 10 primeros registros para asegurarnos de esto."
   ]
  },
  {
   "cell_type": "code",
   "execution_count": 5,
   "id": "ac60a0b3",
   "metadata": {},
   "outputs": [
    {
     "data": {
      "text/html": [
       "<div>\n",
       "<style scoped>\n",
       "    .dataframe tbody tr th:only-of-type {\n",
       "        vertical-align: middle;\n",
       "    }\n",
       "\n",
       "    .dataframe tbody tr th {\n",
       "        vertical-align: top;\n",
       "    }\n",
       "\n",
       "    .dataframe thead th {\n",
       "        text-align: right;\n",
       "    }\n",
       "</style>\n",
       "<table border=\"1\" class=\"dataframe\">\n",
       "  <thead>\n",
       "    <tr style=\"text-align: right;\">\n",
       "      <th></th>\n",
       "      <th>dropoff_location_name</th>\n",
       "      <th>average_trips</th>\n",
       "    </tr>\n",
       "  </thead>\n",
       "  <tbody>\n",
       "    <tr>\n",
       "      <th>0</th>\n",
       "      <td>Loop</td>\n",
       "      <td>10727.466667</td>\n",
       "    </tr>\n",
       "    <tr>\n",
       "      <th>1</th>\n",
       "      <td>River North</td>\n",
       "      <td>9523.666667</td>\n",
       "    </tr>\n",
       "    <tr>\n",
       "      <th>2</th>\n",
       "      <td>Streeterville</td>\n",
       "      <td>6664.666667</td>\n",
       "    </tr>\n",
       "    <tr>\n",
       "      <th>3</th>\n",
       "      <td>West Loop</td>\n",
       "      <td>5163.666667</td>\n",
       "    </tr>\n",
       "    <tr>\n",
       "      <th>4</th>\n",
       "      <td>O'Hare</td>\n",
       "      <td>2546.900000</td>\n",
       "    </tr>\n",
       "    <tr>\n",
       "      <th>5</th>\n",
       "      <td>Lake View</td>\n",
       "      <td>2420.966667</td>\n",
       "    </tr>\n",
       "    <tr>\n",
       "      <th>6</th>\n",
       "      <td>Grant Park</td>\n",
       "      <td>2068.533333</td>\n",
       "    </tr>\n",
       "    <tr>\n",
       "      <th>7</th>\n",
       "      <td>Museum Campus</td>\n",
       "      <td>1510.000000</td>\n",
       "    </tr>\n",
       "    <tr>\n",
       "      <th>8</th>\n",
       "      <td>Gold Coast</td>\n",
       "      <td>1364.233333</td>\n",
       "    </tr>\n",
       "    <tr>\n",
       "      <th>9</th>\n",
       "      <td>Sheffield &amp; DePaul</td>\n",
       "      <td>1259.766667</td>\n",
       "    </tr>\n",
       "  </tbody>\n",
       "</table>\n",
       "</div>"
      ],
      "text/plain": [
       "  dropoff_location_name  average_trips\n",
       "0                  Loop   10727.466667\n",
       "1           River North    9523.666667\n",
       "2         Streeterville    6664.666667\n",
       "3             West Loop    5163.666667\n",
       "4                O'Hare    2546.900000\n",
       "5             Lake View    2420.966667\n",
       "6            Grant Park    2068.533333\n",
       "7         Museum Campus    1510.000000\n",
       "8            Gold Coast    1364.233333\n",
       "9    Sheffield & DePaul    1259.766667"
      ]
     },
     "execution_count": 5,
     "metadata": {},
     "output_type": "execute_result"
    }
   ],
   "source": [
    "# Imprimiendo los primero 10 registros de \"df2\"\n",
    "df2.head(10)"
   ]
  },
  {
   "cell_type": "code",
   "execution_count": 6,
   "id": "7914ebfa",
   "metadata": {},
   "outputs": [
    {
     "name": "stdout",
     "output_type": "stream",
     "text": [
      "<class 'pandas.core.frame.DataFrame'>\n",
      "RangeIndex: 1068 entries, 0 to 1067\n",
      "Data columns (total 3 columns):\n",
      " #   Column              Non-Null Count  Dtype  \n",
      "---  ------              --------------  -----  \n",
      " 0   start_ts            1068 non-null   object \n",
      " 1   weather_conditions  1068 non-null   object \n",
      " 2   duration_seconds    1068 non-null   float64\n",
      "dtypes: float64(1), object(2)\n",
      "memory usage: 25.2+ KB\n"
     ]
    }
   ],
   "source": [
    "# Generando df3\n",
    "df3 = pd.read_csv('datasets/project_sql_result_07.csv')\n",
    "df3.info()"
   ]
  },
  {
   "cell_type": "markdown",
   "id": "6da3b1e7",
   "metadata": {},
   "source": [
    "Por último `df3` contiene datos sobre viajes desde el Loop hasta el Aeropuerto Internacional O'Hare. Por el contrario de los anteriores, para este dataframe y como primer vistazo, es importante modificar el tipo de dato para la columna `start_ts` pasado de `object` a `datetime`. Por otro lado, contamos con una cantidad de registros completos.\n",
    "\n",
    "Es por lo anterior que manejaremos la misma dinámica que en los anteriores dataframe para posteriormente convertir las columnas que lo requieran en el tipo de dato correcto."
   ]
  },
  {
   "cell_type": "code",
   "execution_count": 7,
   "id": "a4a55c0d",
   "metadata": {},
   "outputs": [
    {
     "data": {
      "text/html": [
       "<div>\n",
       "<style scoped>\n",
       "    .dataframe tbody tr th:only-of-type {\n",
       "        vertical-align: middle;\n",
       "    }\n",
       "\n",
       "    .dataframe tbody tr th {\n",
       "        vertical-align: top;\n",
       "    }\n",
       "\n",
       "    .dataframe thead th {\n",
       "        text-align: right;\n",
       "    }\n",
       "</style>\n",
       "<table border=\"1\" class=\"dataframe\">\n",
       "  <thead>\n",
       "    <tr style=\"text-align: right;\">\n",
       "      <th></th>\n",
       "      <th>start_ts</th>\n",
       "      <th>weather_conditions</th>\n",
       "      <th>duration_seconds</th>\n",
       "    </tr>\n",
       "  </thead>\n",
       "  <tbody>\n",
       "    <tr>\n",
       "      <th>0</th>\n",
       "      <td>2017-11-25 16:00:00</td>\n",
       "      <td>Good</td>\n",
       "      <td>2410.0</td>\n",
       "    </tr>\n",
       "    <tr>\n",
       "      <th>1</th>\n",
       "      <td>2017-11-25 14:00:00</td>\n",
       "      <td>Good</td>\n",
       "      <td>1920.0</td>\n",
       "    </tr>\n",
       "    <tr>\n",
       "      <th>2</th>\n",
       "      <td>2017-11-25 12:00:00</td>\n",
       "      <td>Good</td>\n",
       "      <td>1543.0</td>\n",
       "    </tr>\n",
       "    <tr>\n",
       "      <th>3</th>\n",
       "      <td>2017-11-04 10:00:00</td>\n",
       "      <td>Good</td>\n",
       "      <td>2512.0</td>\n",
       "    </tr>\n",
       "    <tr>\n",
       "      <th>4</th>\n",
       "      <td>2017-11-11 07:00:00</td>\n",
       "      <td>Good</td>\n",
       "      <td>1440.0</td>\n",
       "    </tr>\n",
       "    <tr>\n",
       "      <th>5</th>\n",
       "      <td>2017-11-11 04:00:00</td>\n",
       "      <td>Good</td>\n",
       "      <td>1320.0</td>\n",
       "    </tr>\n",
       "    <tr>\n",
       "      <th>6</th>\n",
       "      <td>2017-11-04 16:00:00</td>\n",
       "      <td>Bad</td>\n",
       "      <td>2969.0</td>\n",
       "    </tr>\n",
       "    <tr>\n",
       "      <th>7</th>\n",
       "      <td>2017-11-18 11:00:00</td>\n",
       "      <td>Good</td>\n",
       "      <td>2280.0</td>\n",
       "    </tr>\n",
       "    <tr>\n",
       "      <th>8</th>\n",
       "      <td>2017-11-11 14:00:00</td>\n",
       "      <td>Good</td>\n",
       "      <td>2460.0</td>\n",
       "    </tr>\n",
       "    <tr>\n",
       "      <th>9</th>\n",
       "      <td>2017-11-11 12:00:00</td>\n",
       "      <td>Good</td>\n",
       "      <td>2040.0</td>\n",
       "    </tr>\n",
       "  </tbody>\n",
       "</table>\n",
       "</div>"
      ],
      "text/plain": [
       "              start_ts weather_conditions  duration_seconds\n",
       "0  2017-11-25 16:00:00               Good            2410.0\n",
       "1  2017-11-25 14:00:00               Good            1920.0\n",
       "2  2017-11-25 12:00:00               Good            1543.0\n",
       "3  2017-11-04 10:00:00               Good            2512.0\n",
       "4  2017-11-11 07:00:00               Good            1440.0\n",
       "5  2017-11-11 04:00:00               Good            1320.0\n",
       "6  2017-11-04 16:00:00                Bad            2969.0\n",
       "7  2017-11-18 11:00:00               Good            2280.0\n",
       "8  2017-11-11 14:00:00               Good            2460.0\n",
       "9  2017-11-11 12:00:00               Good            2040.0"
      ]
     },
     "execution_count": 7,
     "metadata": {},
     "output_type": "execute_result"
    }
   ],
   "source": [
    "# Imprimiendo los primero 10 registros de \"df3\"\n",
    "df3.head(10)"
   ]
  },
  {
   "cell_type": "markdown",
   "id": "58a4c7a8",
   "metadata": {},
   "source": [
    "## Corrección del tipo de dato para la columna \"start_ts\" de \"df3\"\n",
    "\n",
    "Como podemos observar en la impresión anterior, la columna `stat_ts` requiere modificación en el tipo de dato pasando de `object` a `datetime`."
   ]
  },
  {
   "cell_type": "code",
   "execution_count": 8,
   "id": "7ba04684",
   "metadata": {},
   "outputs": [
    {
     "name": "stdout",
     "output_type": "stream",
     "text": [
      "<class 'pandas.core.frame.DataFrame'>\n",
      "RangeIndex: 1068 entries, 0 to 1067\n",
      "Data columns (total 3 columns):\n",
      " #   Column              Non-Null Count  Dtype         \n",
      "---  ------              --------------  -----         \n",
      " 0   start_ts            1068 non-null   datetime64[ns]\n",
      " 1   weather_conditions  1068 non-null   object        \n",
      " 2   duration_seconds    1068 non-null   float64       \n",
      "dtypes: datetime64[ns](1), float64(1), object(1)\n",
      "memory usage: 25.2+ KB\n"
     ]
    }
   ],
   "source": [
    "# Convirtiendo la columna \"start_ts\" de \"object\" a \"datetime\"\n",
    "df3['start_ts'] = pd.to_datetime(df3['start_ts'])\n",
    "df3.info()"
   ]
  },
  {
   "cell_type": "markdown",
   "id": "457adec0",
   "metadata": {},
   "source": [
    "## Duplicidad de registros\n",
    "\n",
    "Con la intención de evitar procesamiento innecesario primeramente procederemos con revisando si hay duplicidad de registros en `df1`, `df2` y `df3`."
   ]
  },
  {
   "cell_type": "code",
   "execution_count": 9,
   "id": "36d8d977",
   "metadata": {},
   "outputs": [
    {
     "name": "stdout",
     "output_type": "stream",
     "text": [
      "df1: 0\n",
      "df2: 0\n",
      "df3: 197\n"
     ]
    }
   ],
   "source": [
    "# Verificando duplicidad de registros en \"df1\", \"df2\" y \"df3\"\n",
    "print(\"df1:\",df1.duplicated().sum())\n",
    "print(\"df2:\",df2.duplicated().sum())\n",
    "print(\"df3:\",df3.duplicated().sum())"
   ]
  },
  {
   "cell_type": "markdown",
   "id": "a31708da",
   "metadata": {},
   "source": [
    "Como podemos observar, `df3` tiene `197` registros duplicados. Por tal motivo, procederemos a eliminar dichos registros para que el análisis no se vea afectado posteriormente."
   ]
  },
  {
   "cell_type": "code",
   "execution_count": 10,
   "id": "c234d7f7",
   "metadata": {},
   "outputs": [
    {
     "name": "stdout",
     "output_type": "stream",
     "text": [
      "<class 'pandas.core.frame.DataFrame'>\n",
      "RangeIndex: 871 entries, 0 to 870\n",
      "Data columns (total 4 columns):\n",
      " #   Column              Non-Null Count  Dtype         \n",
      "---  ------              --------------  -----         \n",
      " 0   index               871 non-null    int64         \n",
      " 1   start_ts            871 non-null    datetime64[ns]\n",
      " 2   weather_conditions  871 non-null    object        \n",
      " 3   duration_seconds    871 non-null    float64       \n",
      "dtypes: datetime64[ns](1), float64(1), int64(1), object(1)\n",
      "memory usage: 27.3+ KB\n"
     ]
    }
   ],
   "source": [
    "# Eliminando registros duplicados en \"df3\"\n",
    "df3.drop_duplicates(inplace=True)\n",
    "df3.reset_index(inplace=True)\n",
    "df3.info()"
   ]
  },
  {
   "cell_type": "markdown",
   "id": "ef72f43f",
   "metadata": {},
   "source": [
    "Una vez se tienen los registros duplicados eliminados, podemos observar que pasamos de `1068` registros a `871`. A partir de este punto hemos finalizado con el preprocesamiento de los datos de las diferentes tablas dando inicio al análisis exploratorio de datos.\n",
    "\n",
    "# Análisis exploratorio de datos\n",
    "\n",
    "Comenzaremos los 10 barrios principales en terminos de finalización de viajes usando `df2`.\n",
    "\n",
    "## Barrios principales en terminos de finalización de viajes en Chicago"
   ]
  },
  {
   "cell_type": "code",
   "execution_count": 11,
   "id": "6daeb53a",
   "metadata": {},
   "outputs": [
    {
     "data": {
      "text/html": [
       "<div>\n",
       "<style scoped>\n",
       "    .dataframe tbody tr th:only-of-type {\n",
       "        vertical-align: middle;\n",
       "    }\n",
       "\n",
       "    .dataframe tbody tr th {\n",
       "        vertical-align: top;\n",
       "    }\n",
       "\n",
       "    .dataframe thead th {\n",
       "        text-align: right;\n",
       "    }\n",
       "</style>\n",
       "<table border=\"1\" class=\"dataframe\">\n",
       "  <thead>\n",
       "    <tr style=\"text-align: right;\">\n",
       "      <th></th>\n",
       "      <th>dropoff_location_name</th>\n",
       "      <th>average_trips</th>\n",
       "    </tr>\n",
       "  </thead>\n",
       "  <tbody>\n",
       "    <tr>\n",
       "      <th>0</th>\n",
       "      <td>Loop</td>\n",
       "      <td>10727.466667</td>\n",
       "    </tr>\n",
       "    <tr>\n",
       "      <th>1</th>\n",
       "      <td>River North</td>\n",
       "      <td>9523.666667</td>\n",
       "    </tr>\n",
       "    <tr>\n",
       "      <th>2</th>\n",
       "      <td>Streeterville</td>\n",
       "      <td>6664.666667</td>\n",
       "    </tr>\n",
       "    <tr>\n",
       "      <th>3</th>\n",
       "      <td>West Loop</td>\n",
       "      <td>5163.666667</td>\n",
       "    </tr>\n",
       "    <tr>\n",
       "      <th>4</th>\n",
       "      <td>O'Hare</td>\n",
       "      <td>2546.900000</td>\n",
       "    </tr>\n",
       "    <tr>\n",
       "      <th>5</th>\n",
       "      <td>Lake View</td>\n",
       "      <td>2420.966667</td>\n",
       "    </tr>\n",
       "    <tr>\n",
       "      <th>6</th>\n",
       "      <td>Grant Park</td>\n",
       "      <td>2068.533333</td>\n",
       "    </tr>\n",
       "    <tr>\n",
       "      <th>7</th>\n",
       "      <td>Museum Campus</td>\n",
       "      <td>1510.000000</td>\n",
       "    </tr>\n",
       "    <tr>\n",
       "      <th>8</th>\n",
       "      <td>Gold Coast</td>\n",
       "      <td>1364.233333</td>\n",
       "    </tr>\n",
       "    <tr>\n",
       "      <th>9</th>\n",
       "      <td>Sheffield &amp; DePaul</td>\n",
       "      <td>1259.766667</td>\n",
       "    </tr>\n",
       "  </tbody>\n",
       "</table>\n",
       "</div>"
      ],
      "text/plain": [
       "  dropoff_location_name  average_trips\n",
       "0                  Loop   10727.466667\n",
       "1           River North    9523.666667\n",
       "2         Streeterville    6664.666667\n",
       "3             West Loop    5163.666667\n",
       "4                O'Hare    2546.900000\n",
       "5             Lake View    2420.966667\n",
       "6            Grant Park    2068.533333\n",
       "7         Museum Campus    1510.000000\n",
       "8            Gold Coast    1364.233333\n",
       "9    Sheffield & DePaul    1259.766667"
      ]
     },
     "execution_count": 11,
     "metadata": {},
     "output_type": "execute_result"
    }
   ],
   "source": [
    "# Imprimiendo los 10 principales barrios en terminos de finalización de viajes en Chicago\n",
    "df2.sort_values(by='average_trips',ascending=False).head(10)"
   ]
  },
  {
   "cell_type": "code",
   "execution_count": 12,
   "id": "7f1f8dfd",
   "metadata": {},
   "outputs": [
    {
     "data": {
      "text/plain": [
       "94"
      ]
     },
     "execution_count": 12,
     "metadata": {},
     "output_type": "execute_result"
    }
   ],
   "source": [
    "# Cantidad de barrios en Chicago\n",
    "len(df2['dropoff_location_name'].unique())"
   ]
  },
  {
   "cell_type": "markdown",
   "id": "765db2c8",
   "metadata": {},
   "source": [
    "Con la información obtenida, podemos observar que entre el primer barrio y el último de la lista, hay una diferencia sustancial en el promedio de viajes finalizados en cada uno pues el `Sheffield & DePaul` representa aproximadamente un `11%` del promedio finalizado en `Loop`.\n",
    "\n",
    "Procederemos graficando las 10 empresas de taxi principales de acuerdo al número de viajes realizados y posteriormente los 10 barrios principales de acuerdo al número de viajes finalizados.\n",
    "\n",
    "## Graficando las 10 empresas de taxi principales de acuerdo al número de viajes realizados"
   ]
  },
  {
   "cell_type": "code",
   "execution_count": 13,
   "id": "07e98422",
   "metadata": {},
   "outputs": [
    {
     "data": {
      "text/plain": [
       "<AxesSubplot:xlabel='company_name', ylabel='# de viajes realizados'>"
      ]
     },
     "execution_count": 13,
     "metadata": {},
     "output_type": "execute_result"
    },
    {
     "data": {
      "image/png": "[encoded data removed]",
      "text/plain": [
       "<Figure size 720x432 with 1 Axes>"
      ]
     },
     "metadata": {
      "needs_background": "light"
     },
     "output_type": "display_data"
    }
   ],
   "source": [
    "# Graficando las 10 empresas de taxi principales de acuerdo al número de viajes realizados\n",
    "df1_result = df1.sort_values(by='trips_amount', ascending=False).head(10)\n",
    "df1_result.plot(x='company_name',y='trips_amount',kind='bar',figsize=(10,6),grid=True, ylabel='# de viajes realizados')"
   ]
  },
  {
   "cell_type": "markdown",
   "id": "8e5c83ae",
   "metadata": {},
   "source": [
    "De acuerdo con la gráfica, podemos observar que exceptuando `Flash Cab`, las 9 compañias restantes tienen un promedio de `7700` viajes en promedio. `Flash Cab` se posiciona en primer lugar con una notoria diferencia ascendiendo hasta casi los `20000` viajes realizados.\n",
    "\n",
    "Presentaremos una tabla para visualizar con exactitud estos números."
   ]
  },
  {
   "cell_type": "code",
   "execution_count": 14,
   "id": "2c3ee395",
   "metadata": {},
   "outputs": [
    {
     "data": {
      "text/html": [
       "<div>\n",
       "<style scoped>\n",
       "    .dataframe tbody tr th:only-of-type {\n",
       "        vertical-align: middle;\n",
       "    }\n",
       "\n",
       "    .dataframe tbody tr th {\n",
       "        vertical-align: top;\n",
       "    }\n",
       "\n",
       "    .dataframe thead th {\n",
       "        text-align: right;\n",
       "    }\n",
       "</style>\n",
       "<table border=\"1\" class=\"dataframe\">\n",
       "  <thead>\n",
       "    <tr style=\"text-align: right;\">\n",
       "      <th></th>\n",
       "      <th>company_name</th>\n",
       "      <th>trips_amount</th>\n",
       "    </tr>\n",
       "  </thead>\n",
       "  <tbody>\n",
       "    <tr>\n",
       "      <th>0</th>\n",
       "      <td>Flash Cab</td>\n",
       "      <td>19558</td>\n",
       "    </tr>\n",
       "    <tr>\n",
       "      <th>1</th>\n",
       "      <td>Taxi Affiliation Services</td>\n",
       "      <td>11422</td>\n",
       "    </tr>\n",
       "    <tr>\n",
       "      <th>2</th>\n",
       "      <td>Medallion Leasin</td>\n",
       "      <td>10367</td>\n",
       "    </tr>\n",
       "    <tr>\n",
       "      <th>3</th>\n",
       "      <td>Yellow Cab</td>\n",
       "      <td>9888</td>\n",
       "    </tr>\n",
       "    <tr>\n",
       "      <th>4</th>\n",
       "      <td>Taxi Affiliation Service Yellow</td>\n",
       "      <td>9299</td>\n",
       "    </tr>\n",
       "    <tr>\n",
       "      <th>5</th>\n",
       "      <td>Chicago Carriage Cab Corp</td>\n",
       "      <td>9181</td>\n",
       "    </tr>\n",
       "    <tr>\n",
       "      <th>6</th>\n",
       "      <td>City Service</td>\n",
       "      <td>8448</td>\n",
       "    </tr>\n",
       "    <tr>\n",
       "      <th>7</th>\n",
       "      <td>Sun Taxi</td>\n",
       "      <td>7701</td>\n",
       "    </tr>\n",
       "    <tr>\n",
       "      <th>8</th>\n",
       "      <td>Star North Management LLC</td>\n",
       "      <td>7455</td>\n",
       "    </tr>\n",
       "    <tr>\n",
       "      <th>9</th>\n",
       "      <td>Blue Ribbon Taxi Association Inc.</td>\n",
       "      <td>5953</td>\n",
       "    </tr>\n",
       "  </tbody>\n",
       "</table>\n",
       "</div>"
      ],
      "text/plain": [
       "                        company_name  trips_amount\n",
       "0                          Flash Cab         19558\n",
       "1          Taxi Affiliation Services         11422\n",
       "2                   Medallion Leasin         10367\n",
       "3                         Yellow Cab          9888\n",
       "4    Taxi Affiliation Service Yellow          9299\n",
       "5          Chicago Carriage Cab Corp          9181\n",
       "6                       City Service          8448\n",
       "7                           Sun Taxi          7701\n",
       "8          Star North Management LLC          7455\n",
       "9  Blue Ribbon Taxi Association Inc.          5953"
      ]
     },
     "execution_count": 14,
     "metadata": {},
     "output_type": "execute_result"
    }
   ],
   "source": [
    "# Tabla de valores para las 10 empresas de taxi principales de acuerdo al número de viajes realizados\n",
    "df1_result"
   ]
  },
  {
   "cell_type": "markdown",
   "id": "3c0b5be3",
   "metadata": {},
   "source": [
    "Como podemos observar, efectivamente, para las distintas empresas que se dedican al servicio de taxi en Chicago, al menos entre el 15 y 16 de Noviembre de 2017, `Flash Cab` obtuvo un total de viajes muy superior a las empresas restantes, esto puede deberse a muchas cosas, como por ejemplo :\n",
    "- Es una empresa considerablemente más grande en flotilla que el restante.\n",
    "- Tarifas más bajas con respecto a la competencia.\n",
    "- Mayor disponibilidad de autos durante las horas con mayor demanda.\n",
    "\n",
    "Procederemos con graficar os 10 barrios principales de acuerdo al número de viajes finalizados.\n",
    "\n",
    "## Graficando los 10 barrios principales de acuerdo al número de viajes finalizados"
   ]
  },
  {
   "cell_type": "code",
   "execution_count": 15,
   "id": "62b4408d",
   "metadata": {},
   "outputs": [
    {
     "data": {
      "text/plain": [
       "<AxesSubplot:xlabel='dropoff_location_name', ylabel='# de viajes finalizados'>"
      ]
     },
     "execution_count": 15,
     "metadata": {},
     "output_type": "execute_result"
    },
    {
     "data": {
      "image/png": "[encoded data removed]",
      "text/plain": [
       "<Figure size 720x432 with 1 Axes>"
      ]
     },
     "metadata": {
      "needs_background": "light"
     },
     "output_type": "display_data"
    }
   ],
   "source": [
    "df2_result = df2.sort_values(by='average_trips',ascending=False).head(10)\n",
    "df2_result.plot(x='dropoff_location_name',y='average_trips',kind='bar',figsize=(10,6),grid=True, ylabel='# de viajes finalizados')"
   ]
  },
  {
   "cell_type": "markdown",
   "id": "7c9be861",
   "metadata": {},
   "source": [
    "En esta gráfica podemos observar que poco más de `10,000` viajes en promedio finalizarón en el barrio de `Loop` y esta cantidad promedio va bajando de manera exponencial hasta llegar al barrio de `Sheffield & DePaul` con aproximadamente `1250` viajes finalizados en esta zona.\n",
    "\n",
    "# Prueba de hipótesis\n",
    "\n",
    "## La duración promedio de los viajes desde el Loop hasta el Aeropuerto Internacional O'Hare es igual los sábados lluviosos que el resto de los días con otro clima\n",
    "\n",
    "Continuaremos con las pruebas de hipótesis respecto a los viajes realizados desde `Loop` hasta el `Aeropuerto Internacional O'Hare` para los distintos días de la semana con los distintos climas registrados en `df3`.\n",
    "\n",
    "Primero verificaremos que contemos con la información suficiente en `df3` para poder ejecutar la prueba de hipótesis correspondiente."
   ]
  },
  {
   "cell_type": "code",
   "execution_count": 16,
   "id": "e4681e1e",
   "metadata": {},
   "outputs": [
    {
     "data": {
      "text/html": [
       "<div>\n",
       "<style scoped>\n",
       "    .dataframe tbody tr th:only-of-type {\n",
       "        vertical-align: middle;\n",
       "    }\n",
       "\n",
       "    .dataframe tbody tr th {\n",
       "        vertical-align: top;\n",
       "    }\n",
       "\n",
       "    .dataframe thead th {\n",
       "        text-align: right;\n",
       "    }\n",
       "</style>\n",
       "<table border=\"1\" class=\"dataframe\">\n",
       "  <thead>\n",
       "    <tr style=\"text-align: right;\">\n",
       "      <th></th>\n",
       "      <th>index</th>\n",
       "      <th>start_ts</th>\n",
       "      <th>weather_conditions</th>\n",
       "      <th>duration_seconds</th>\n",
       "    </tr>\n",
       "  </thead>\n",
       "  <tbody>\n",
       "    <tr>\n",
       "      <th>0</th>\n",
       "      <td>0</td>\n",
       "      <td>2017-11-25 16:00:00</td>\n",
       "      <td>Good</td>\n",
       "      <td>2410.0</td>\n",
       "    </tr>\n",
       "    <tr>\n",
       "      <th>1</th>\n",
       "      <td>1</td>\n",
       "      <td>2017-11-25 14:00:00</td>\n",
       "      <td>Good</td>\n",
       "      <td>1920.0</td>\n",
       "    </tr>\n",
       "    <tr>\n",
       "      <th>2</th>\n",
       "      <td>2</td>\n",
       "      <td>2017-11-25 12:00:00</td>\n",
       "      <td>Good</td>\n",
       "      <td>1543.0</td>\n",
       "    </tr>\n",
       "    <tr>\n",
       "      <th>3</th>\n",
       "      <td>3</td>\n",
       "      <td>2017-11-04 10:00:00</td>\n",
       "      <td>Good</td>\n",
       "      <td>2512.0</td>\n",
       "    </tr>\n",
       "    <tr>\n",
       "      <th>4</th>\n",
       "      <td>4</td>\n",
       "      <td>2017-11-11 07:00:00</td>\n",
       "      <td>Good</td>\n",
       "      <td>1440.0</td>\n",
       "    </tr>\n",
       "  </tbody>\n",
       "</table>\n",
       "</div>"
      ],
      "text/plain": [
       "   index            start_ts weather_conditions  duration_seconds\n",
       "0      0 2017-11-25 16:00:00               Good            2410.0\n",
       "1      1 2017-11-25 14:00:00               Good            1920.0\n",
       "2      2 2017-11-25 12:00:00               Good            1543.0\n",
       "3      3 2017-11-04 10:00:00               Good            2512.0\n",
       "4      4 2017-11-11 07:00:00               Good            1440.0"
      ]
     },
     "execution_count": 16,
     "metadata": {},
     "output_type": "execute_result"
    }
   ],
   "source": [
    "# Verificando la información dentro de \"df3\"\n",
    "df3.head()"
   ]
  },
  {
   "cell_type": "markdown",
   "id": "44225d94",
   "metadata": {},
   "source": [
    "Como podemos observar, la prueba de hipótsis considera ademas del clima, el día de la semana y no contamos con alguna columna que se ajuste a este parámetro, sin embargo, este puede ser extraido de la columna `start_ts`."
   ]
  },
  {
   "cell_type": "code",
   "execution_count": 17,
   "id": "39fd6746",
   "metadata": {},
   "outputs": [
    {
     "data": {
      "text/html": [
       "<div>\n",
       "<style scoped>\n",
       "    .dataframe tbody tr th:only-of-type {\n",
       "        vertical-align: middle;\n",
       "    }\n",
       "\n",
       "    .dataframe tbody tr th {\n",
       "        vertical-align: top;\n",
       "    }\n",
       "\n",
       "    .dataframe thead th {\n",
       "        text-align: right;\n",
       "    }\n",
       "</style>\n",
       "<table border=\"1\" class=\"dataframe\">\n",
       "  <thead>\n",
       "    <tr style=\"text-align: right;\">\n",
       "      <th></th>\n",
       "      <th>index</th>\n",
       "      <th>start_ts</th>\n",
       "      <th>weather_conditions</th>\n",
       "      <th>duration_seconds</th>\n",
       "      <th>weekday</th>\n",
       "    </tr>\n",
       "  </thead>\n",
       "  <tbody>\n",
       "    <tr>\n",
       "      <th>0</th>\n",
       "      <td>0</td>\n",
       "      <td>2017-11-25 16:00:00</td>\n",
       "      <td>Good</td>\n",
       "      <td>2410.0</td>\n",
       "      <td>5</td>\n",
       "    </tr>\n",
       "    <tr>\n",
       "      <th>1</th>\n",
       "      <td>1</td>\n",
       "      <td>2017-11-25 14:00:00</td>\n",
       "      <td>Good</td>\n",
       "      <td>1920.0</td>\n",
       "      <td>5</td>\n",
       "    </tr>\n",
       "    <tr>\n",
       "      <th>2</th>\n",
       "      <td>2</td>\n",
       "      <td>2017-11-25 12:00:00</td>\n",
       "      <td>Good</td>\n",
       "      <td>1543.0</td>\n",
       "      <td>5</td>\n",
       "    </tr>\n",
       "    <tr>\n",
       "      <th>3</th>\n",
       "      <td>3</td>\n",
       "      <td>2017-11-04 10:00:00</td>\n",
       "      <td>Good</td>\n",
       "      <td>2512.0</td>\n",
       "      <td>5</td>\n",
       "    </tr>\n",
       "    <tr>\n",
       "      <th>4</th>\n",
       "      <td>4</td>\n",
       "      <td>2017-11-11 07:00:00</td>\n",
       "      <td>Good</td>\n",
       "      <td>1440.0</td>\n",
       "      <td>5</td>\n",
       "    </tr>\n",
       "  </tbody>\n",
       "</table>\n",
       "</div>"
      ],
      "text/plain": [
       "   index            start_ts weather_conditions  duration_seconds  weekday\n",
       "0      0 2017-11-25 16:00:00               Good            2410.0        5\n",
       "1      1 2017-11-25 14:00:00               Good            1920.0        5\n",
       "2      2 2017-11-25 12:00:00               Good            1543.0        5\n",
       "3      3 2017-11-04 10:00:00               Good            2512.0        5\n",
       "4      4 2017-11-11 07:00:00               Good            1440.0        5"
      ]
     },
     "execution_count": 17,
     "metadata": {},
     "output_type": "execute_result"
    }
   ],
   "source": [
    "# Extrayendo el día de la semana de la columna \"start_ts\" y agregandola a \"df3\" con el nombre de \"weekday\"\n",
    "df3['weekday'] = df3['start_ts'].dt.dayofweek\n",
    "df3.head()"
   ]
  },
  {
   "cell_type": "markdown",
   "id": "b38ee51d",
   "metadata": {},
   "source": [
    "Con ayuda de la función `dt.dayofweek` pudimos extraer el día de la semana con la siguiente referencia:\n",
    "- Lunes = 0\n",
    "- Martes = 1\n",
    "- Miercoles = 2\n",
    "- Jueves = 3\n",
    "- Viernes = 4\n",
    "- Sábado = 5\n",
    "- Domingo = 6\n",
    "\n",
    "Para nosotros los parámetros de interes para la prueba de hipótesis serán `weather_conditions = Bad` y `weekday = 5`. Teniendo esta información procederemos con el planteaniento de la prueba de hipótesis.\n",
    "\n",
    "Para asegurarnos que tenemos días diferentes de la semana, procederemos a validar los valores únicos en la columna `weekday`."
   ]
  },
  {
   "cell_type": "code",
   "execution_count": 18,
   "id": "990db577",
   "metadata": {},
   "outputs": [
    {
     "data": {
      "text/plain": [
       "array([5])"
      ]
     },
     "execution_count": 18,
     "metadata": {},
     "output_type": "execute_result"
    }
   ],
   "source": [
    "# Validando días de la semana existentes en \"df3\"\n",
    "df3['weekday'].unique()"
   ]
  },
  {
   "cell_type": "markdown",
   "id": "a9e50247",
   "metadata": {},
   "source": [
    "Como podemos observar, todos los registros dentro de `df3` son del día sabado, por tal motivo no es de relevancia trabajar con la columna `weekday`. Continuaremos con el plateamiento de la `hipótesis nula` y `alternativa.\n",
    "\n",
    "- H<sub>0</sub>: **La duración promedio de los viajes desde el Loop hasta el Aeropuerto Internacional O'Hare es igual los sábados lluviosos que el resto de los días con otro clima**\n",
    "- H<sub>A</sub>:**La duración promedio de los viajes desde el Loop hasta el Aeropuerto Internacional O'Hare es diferente los sábados lluviosos que el resto de los días con otro clima**\n",
    "\n",
    "Recordemos que para las pruebas de hipótesis es importante identificar cuál es la adecuada. Tenemos 4 opciones para poder trabajar y debemos conocer que es lo que esta pasando con nuestras pruebas y saber con que datos contamos:\n",
    "- `Hipótesis con dos colas`: Requerímos de un valor específico de comparación con la media de la muestra.\n",
    "- `Hipótesis con una cola`: Requerimos un valor específico de comparación con la media de la muestar, en este caso nuestro `p value` se dividirá entre 2 para considerar ambas posiciones.\n",
    "- `Hipótesis sobre la igualdad de las medias de dos poblaciones`: Requerimos de dos muestras y si se conoce la varianza de ambas muestras y estas son iguales puede ajustarse el parámetro `equal_var = True`, en caso contrario se coloca en `False`.\n",
    "- `Hipótesis sobre la igualdad de las medias de muestras emparejadas`:  Requerimos de dos muestras con la característica de que estas provienen del mismo set de datos con una diferencia temporal.\n",
    "\n",
    "De acuerdo con la información anterior y por las características de H<sub>0</sub>, trabajaremos con `Hipótesis sobre la igualdad de las medias de dos poblaciones` creando una muestra para los viajes realizados en sábados lluviosos y otra para el resto de días con el resto de climas.\n"
   ]
  },
  {
   "cell_type": "code",
   "execution_count": 19,
   "id": "b255ff5f",
   "metadata": {},
   "outputs": [
    {
     "name": "stdout",
     "output_type": "stream",
     "text": [
      "Muestra 1: 148\n",
      "Muestra 2: 723\n"
     ]
    }
   ],
   "source": [
    "# Creando muestras para la prueba de hipótesis \"m1\" y \"m2\"\n",
    "m1 = df3[(df3['weather_conditions'] == 'Bad')]\n",
    "m2 = df3[(df3['weather_conditions'] != 'Bad')]\n",
    "print('Muestra 1:',len(m1))\n",
    "print('Muestra 2:',len(m2))"
   ]
  },
  {
   "cell_type": "code",
   "execution_count": 20,
   "id": "9dfae068",
   "metadata": {},
   "outputs": [
    {
     "data": {
      "text/plain": [
       "<AxesSubplot:xlabel='duration_seconds', ylabel='weather_conditions'>"
      ]
     },
     "execution_count": 20,
     "metadata": {},
     "output_type": "execute_result"
    },
    {
     "data": {
      "image/png": "[encoded data removed]",
      "text/plain": [
       "<Figure size 432x288 with 1 Axes>"
      ]
     },
     "metadata": {
      "needs_background": "light"
     },
     "output_type": "display_data"
    }
   ],
   "source": [
    "# Visualizando distribución de \"df3\" con respecto a \"weather_condition\" y \"duration_seconds\"\n",
    "sns.boxplot(data=df3, x=\"duration_seconds\", y=\"weather_conditions\")"
   ]
  },
  {
   "cell_type": "markdown",
   "id": "230e2abb",
   "metadata": {},
   "source": [
    "Para poder ejecutar la prueba de hipótesis, es importante primero determinar si las muestras tienen varianzas iguales o similares mayormente, para esto, pondremos a prueba dichas muestras usando el algoritmo de `Levene` que se encarga de probar que todas las entradas de la hipótesis nula tienen varianzas iguales. Propondremos un valor `alpha` del `5%` para tener un rango de error no tan cerrado pero que nos permita rechazar la hipótesis nula en caso de ser requerido."
   ]
  },
  {
   "cell_type": "code",
   "execution_count": 21,
   "id": "05973f85",
   "metadata": {},
   "outputs": [
    {
     "name": "stdout",
     "output_type": "stream",
     "text": [
      "P value: 0.9806770360671218\n",
      "No rechazamos la hipótesis nula\n"
     ]
    }
   ],
   "source": [
    "# Ejecutando la prueba de \"Levene\"\n",
    "alpha = 0.05\n",
    "stat,p = levene(m1['duration_seconds'],m2['duration_seconds'])\n",
    "print(\"P value:\", p)\n",
    "if p < alpha:\n",
    "    print(\"Rechazamos la hipótesis nula\")\n",
    "else:\n",
    "    print(\"No rechazamos la hipótesis nula\")"
   ]
  },
  {
   "cell_type": "markdown",
   "id": "50dfa827",
   "metadata": {},
   "source": [
    "Este resultado nos indica que tenemos una varianza similar en un `98%` aproximadamente al tomar valores aleatorios de ambas muestras, por tal motivo, el hiperparametro `equal_var = True`. Continuaremos ejecutando la prueba de hipótesis."
   ]
  },
  {
   "cell_type": "code",
   "execution_count": 22,
   "id": "3992a19e",
   "metadata": {},
   "outputs": [
    {
     "name": "stdout",
     "output_type": "stream",
     "text": [
      "p-value:  7.397770692813604e-08\n",
      "Rechazamos la hipótesis nula\n"
     ]
    }
   ],
   "source": [
    "# Ejecutando prueba de hipótesis\n",
    "results = st.ttest_ind(m1['duration_seconds'],m2['duration_seconds'],equal_var = True)\n",
    "print('p-value: ', results.pvalue)\n",
    "if results.pvalue < alpha:\n",
    "    print(\"Rechazamos la hipótesis nula\")\n",
    "else:\n",
    "    print(\"No rechazamos la hipótesis nula\")"
   ]
  },
  {
   "cell_type": "markdown",
   "id": "d6ed1aa3",
   "metadata": {},
   "source": [
    "Una vez ejecutada la prueba de hipótesis, podemos rechazarla con seguridad pues es practicamente nulo `p-value`, es decir, tenemos evidencia suficiente como para dar paso a la hipótesis alternativa que plantea que **\"La duración promedio de los viajes desde el Loop hasta el Aeropuerto Internacional O'Hare es  diferente los sábados lluviosos que el resto de los días con otro clima\"**.\n",
    "\n",
    "# Conclusiones\n",
    "\n",
    "La prueba de hipótesis de entrada es lógica, esto es debido a que por lo general las personas que conducen, lo hacen con mayor precaución y cuidado cuando llueve por los diversos riesgos que esto implica. Al aplicar esto para todos los conductores que hay en ese momento, los tiempos de traslado se ven afectados aumentando.\n",
    "\n",
    "En relación al día de la semana en que se realizan los viajes, no podemos hacer una comparación con los días que no son sábado puesto que `df3` solo contiene registros de viajes realizados los días sábado, sin embargo, al menos en México, podría aumentar la cantidad de demanda de servicios de taxi pues las personas suelen ocupar los días sábados como días recreativos."
   ]
  }
 ],
 "metadata": {
  "kernelspec": {
   "display_name": "Python 3 (ipykernel)",
   "language": "python",
   "name": "python3"
  },
  "language_info": {
   "codemirror_mode": {
    "name": "ipython",
    "version": 3
   },
   "file_extension": ".py",
   "mimetype": "text/x-python",
   "name": "python",
   "nbconvert_exporter": "python",
   "pygments_lexer": "ipython3",
   "version": "3.9.7"
  },
  "toc": {
   "base_numbering": 1,
   "nav_menu": {},
   "number_sections": true,
   "sideBar": true,
   "skip_h1_title": false,
   "title_cell": "Table of Contents",
   "title_sidebar": "Contents",
   "toc_cell": false,
   "toc_position": {},
   "toc_section_display": true,
   "toc_window_display": false
  }
 },
 "nbformat": 4,
 "nbformat_minor": 5
}
